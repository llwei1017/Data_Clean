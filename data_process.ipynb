{
 "cells": [
  {
   "cell_type": "code",
   "execution_count": 14,
   "metadata": {},
   "outputs": [],
   "source": [
    "import numpy as np\n",
    "import pandas as pd\n",
    "import os\n",
    "import json"
   ]
  },
  {
   "cell_type": "code",
   "execution_count": 15,
   "metadata": {},
   "outputs": [],
   "source": [
    "# 读取json\n",
    "path = \"./data_in/instructions_by_product_label.json\"\n",
    "with open(path,'r',encoding='utf-8') as file:\n",
    "    data = file.read()\n",
    "    json_dict = json.loads(data)\n"
   ]
  },
  {
   "cell_type": "code",
   "execution_count": 16,
   "metadata": {},
   "outputs": [],
   "source": [
    "excel_path = \"./data_in/保全-具体操作方式（优化版）.xlsx\"\n",
    "df_data = pd.read_excel(excel_path, sheet_name=\"续保\")\n",
    "\n",
    "for idx,row in df_data.iterrows():\n",
    "    product_names_lis = []\n",
    "    product_names = str(df_data.at[idx, \"产品名称\"])\n",
    "    renewl_method = str(df_data.at[idx, \"续保方式\"])\n",
    "    if product_names != 'nan':\n",
    "        product_names_lis = product_names.split(\"\\n\")\n",
    "        for p_n in product_names_lis:\n",
    "            # print(product_names_lis)\n",
    "            # 检查该产品原有的续保续费方式有没有\n",
    "            if \"续期-续期咨询-续保续费方式\" in json_dict[p_n]:\n",
    "                json_dict[p_n][\"续期-续期咨询-续保续费方式\"][\"text\"] = renewl_method\n",
    "            else:\n",
    "                json_dict[p_n][\"续期-续期咨询-续保续费方式\"] = {\"text\":renewl_method,\"image_url\": []}\n"
   ]
  },
  {
   "cell_type": "code",
   "execution_count": 17,
   "metadata": {},
   "outputs": [],
   "source": [
    "# 保存json\n",
    "op = os.path.join('./data_op','instructions_by_product_label.json')\n",
    "with open(op,'w',encoding='utf-8') as file:\n",
    "    json.dump(json_dict, file, indent=4, ensure_ascii=False)"
   ]
  }
 ],
 "metadata": {
  "kernelspec": {
   "display_name": "csb",
   "language": "python",
   "name": "python3"
  },
  "language_info": {
   "codemirror_mode": {
    "name": "ipython",
    "version": 3
   },
   "file_extension": ".py",
   "mimetype": "text/x-python",
   "name": "python",
   "nbconvert_exporter": "python",
   "pygments_lexer": "ipython3",
   "version": "3.10.13"
  }
 },
 "nbformat": 4,
 "nbformat_minor": 2
}
